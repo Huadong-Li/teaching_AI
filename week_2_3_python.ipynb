{
 "cells": [
  {
   "cell_type": "markdown",
   "metadata": {},
   "source": [
    "# Jupyter Notebook 使用说明\n",
    "\n",
    "    ## shift + Enter 执行\n",
    "    \n",
    "    ## Esc 进入命令操作模式，之后：\n",
    "    ###      a: 在上方插入 cell\n",
    "    ###      b: 下方插入 cell\n",
    "    ###      dd: 删除当前 cell\n",
    "    ###      h：查看帮助\n",
    "    \n",
    "    ##  Enter 编辑当前 cell\n",
    "        按 tab 自动补齐函数名\n",
    "        用 shfit+tab 查看帮助\n",
    "\n",
    "\n",
    "\n"
   ]
  },
  {
   "cell_type": "markdown",
   "metadata": {},
   "source": [
    "## python 概况\n",
    "   \n",
    "   \n",
    "    ### 解释性 语言（逐句执行，不需要编译）\n",
    "    \n",
    "    ### 区分大小写，区分格式（要对齐，不可随便缩进。缩进代表子结构）\n",
    "    \n",
    "    ### 比C方便十倍，代价是慢十倍\n",
    "    \n",
    "    \n",
    "## 推荐大家去看“廖雪峰”大咖的网站"
   ]
  },
  {
   "cell_type": "markdown",
   "metadata": {},
   "source": [
    "# 第一章 热身开始 "
   ]
  },
  {
   "cell_type": "markdown",
   "metadata": {},
   "source": [
    "#### 四则运算"
   ]
  },
  {
   "cell_type": "code",
   "execution_count": 3,
   "metadata": {},
   "outputs": [
    {
     "data": {
      "text/plain": [
       "0"
      ]
     },
     "execution_count": 3,
     "metadata": {},
     "output_type": "execute_result"
    }
   ],
   "source": [
    "1 + 2 -3"
   ]
  },
  {
   "cell_type": "code",
   "execution_count": 4,
   "metadata": {},
   "outputs": [
    {
     "data": {
      "text/plain": [
       "90"
      ]
     },
     "execution_count": 4,
     "metadata": {},
     "output_type": "execute_result"
    }
   ],
   "source": [
    "(7+8)*6"
   ]
  },
  {
   "cell_type": "code",
   "execution_count": 5,
   "metadata": {},
   "outputs": [
    {
     "data": {
      "text/plain": [
       "81"
      ]
     },
     "execution_count": 5,
     "metadata": {},
     "output_type": "execute_result"
    }
   ],
   "source": [
    "9**2"
   ]
  },
  {
   "cell_type": "code",
   "execution_count": 6,
   "metadata": {},
   "outputs": [
    {
     "data": {
      "text/plain": [
       "3.0"
      ]
     },
     "execution_count": 6,
     "metadata": {},
     "output_type": "execute_result"
    }
   ],
   "source": [
    "9**0.5"
   ]
  },
  {
   "cell_type": "markdown",
   "metadata": {},
   "source": [
    "#### print()屏幕输出\n",
    "\n",
    "    多个字符串或数字，用逗号“,”隔开，形成连贯输出。\n",
    "\n",
    "    在多个字符串、数字之间自动加 空格"
   ]
  },
  {
   "cell_type": "code",
   "execution_count": 7,
   "metadata": {},
   "outputs": [
    {
     "name": "stdout",
     "output_type": "stream",
     "text": [
      "Hello world!\n"
     ]
    }
   ],
   "source": [
    "print('Hello world!')"
   ]
  },
  {
   "cell_type": "code",
   "execution_count": 8,
   "metadata": {},
   "outputs": [
    {
     "name": "stdout",
     "output_type": "stream",
     "text": [
      "Hello world! I am using python. I find 1+2+3 = 6\n"
     ]
    }
   ],
   "source": [
    "print('Hello world!', 'I am using python.', 'I find 1+2+3 =', 1+2+3)"
   ]
  },
  {
   "cell_type": "code",
   "execution_count": 9,
   "metadata": {},
   "outputs": [
    {
     "name": "stdout",
     "output_type": "stream",
     "text": [
      "1*2, 9**2, 2/3. =  2 81 0.6666666666666666\n"
     ]
    }
   ],
   "source": [
    "print('1*2, 9**2, 2/3. = ', 1*2, 9**2, 2/3.)"
   ]
  },
  {
   "cell_type": "markdown",
   "metadata": {},
   "source": [
    "#### 用 import 导入第三方模块，就可以使用第三方程序了\n",
    "\n",
    "    numpy 常用数值计算包\n",
    "\n",
    "    matplotlib 画图\n",
    "\n",
    "    random 随机数"
   ]
  },
  {
   "cell_type": "code",
   "execution_count": 2,
   "metadata": {},
   "outputs": [],
   "source": [
    "import numpy as np\n",
    "import matplotlib.pyplot as plt\n",
    "import random"
   ]
  },
  {
   "cell_type": "code",
   "execution_count": 3,
   "metadata": {},
   "outputs": [
    {
     "name": "stdout",
     "output_type": "stream",
     "text": [
      "1.0 2.0 2.718281828459045\n"
     ]
    }
   ],
   "source": [
    "print(np.sin(np.pi/2.), np.log10(100.), np.exp(1.))"
   ]
  },
  {
   "cell_type": "code",
   "execution_count": 4,
   "metadata": {},
   "outputs": [
    {
     "data": {
      "text/plain": [
       "(array([0.        , 0.33069396, 0.66138793, 0.99208189, 1.32277585,\n",
       "        1.65346982, 1.98416378, 2.31485774, 2.64555171, 2.97624567,\n",
       "        3.30693964, 3.6376336 , 3.96832756, 4.29902153, 4.62971549,\n",
       "        4.96040945, 5.29110342, 5.62179738, 5.95249134, 6.28318531]),\n",
       " array([ 0.00000000e+00,  3.24699469e-01,  6.14212713e-01,  8.37166478e-01,\n",
       "         9.69400266e-01,  9.96584493e-01,  9.15773327e-01,  7.35723911e-01,\n",
       "         4.75947393e-01,  1.64594590e-01, -1.64594590e-01, -4.75947393e-01,\n",
       "        -7.35723911e-01, -9.15773327e-01, -9.96584493e-01, -9.69400266e-01,\n",
       "        -8.37166478e-01, -6.14212713e-01, -3.24699469e-01, -2.44929360e-16]))"
      ]
     },
     "execution_count": 4,
     "metadata": {},
     "output_type": "execute_result"
    }
   ],
   "source": [
    "X = np.linspace(0, 2*np.pi, 20)\n",
    "Y = np.sin(X)\n",
    "X, Y"
   ]
  },
  {
   "cell_type": "code",
   "execution_count": 5,
   "metadata": {},
   "outputs": [
    {
     "data": {
      "image/png": "[encoded data removed]",
      "text/plain": [
       "<Figure size 432x288 with 1 Axes>"
      ]
     },
     "metadata": {
      "needs_background": "light"
     },
     "output_type": "display_data"
    }
   ],
   "source": [
    "fig, ax = plt.subplots()\n",
    "ax.plot(X, Y)\n",
    "ax.grid()"
   ]
  },
  {
   "cell_type": "markdown",
   "metadata": {},
   "source": [
    "### random 可以生成各种分布的随机数，如 gauss 分布"
   ]
  },
  {
   "cell_type": "code",
   "execution_count": 7,
   "metadata": {},
   "outputs": [
    {
     "name": "stdout",
     "output_type": "stream",
     "text": [
      "0.37148476377547557\n",
      "0.6683510446017809\n"
     ]
    }
   ],
   "source": [
    "print ( np.random.uniform(0,1) )\n",
    "print ( np.random.normal(0,1)  )"
   ]
  },
  {
   "cell_type": "markdown",
   "metadata": {},
   "source": [
    "# 第二章 变量(整数，浮点数，字符串，逻辑变量)"
   ]
  },
  {
   "cell_type": "code",
   "execution_count": 8,
   "metadata": {},
   "outputs": [
    {
     "name": "stdout",
     "output_type": "stream",
     "text": [
      "2\n"
     ]
    }
   ],
   "source": [
    "x = 1; print(x+1)"
   ]
  },
  {
   "cell_type": "markdown",
   "metadata": {},
   "source": [
    "### python 可以处理任意大小整数！！！"
   ]
  },
  {
   "cell_type": "code",
   "execution_count": 9,
   "metadata": {},
   "outputs": [
    {
     "data": {
      "text/plain": [
       "10000000000000000000000000000000000000000000000000000000000000000000000000000000000000000000000000000000000000000000000000000000000000000000000000000000000000000000000000000000000000000000000000000000000000000000000000000000000000000000000000000000000000000000000000000000000000000000000000000000000000000000000000000000000000000000000000000000000000000000000000000000000000000000000000000000000000000000000000000000000000000000000000000000000000000000000000000000000000000000000000000000000000000000000000000000000000000000000000000000000000000000000000000000000000000000000000000000000000000000000000000000000000000000000000000000000000000000000000000000000000000000000000000000000000000000000000000000000000000000000000000000000000000000000000000000000000000000000000000000000000000000000000000000000000000000000000000000000000000000000000000000000000000000000000000000000000000000000000000000000000000000000000000000000000000000000000000000000000000000000000000000000000000000000000000000000000001"
      ]
     },
     "execution_count": 9,
     "metadata": {},
     "output_type": "execute_result"
    }
   ],
   "source": [
    "# 10 的 1000 次方加1。 \n",
    "\n",
    "# 我们用 # 来书写注释语句\n",
    "\n",
    "# ** 表示幂指数。\n",
    "\n",
    "10**1000  + 1"
   ]
  },
  {
   "cell_type": "markdown",
   "metadata": {},
   "source": [
    "### Python 没有单精度，只有双精度。"
   ]
  },
  {
   "cell_type": "code",
   "execution_count": 37,
   "metadata": {},
   "outputs": [
    {
     "name": "stdout",
     "output_type": "stream",
     "text": [
      "3.141592653589793\n"
     ]
    }
   ],
   "source": [
    "x = np.pi\n",
    "\n",
    "print (x)"
   ]
  },
  {
   "cell_type": "markdown",
   "metadata": {},
   "source": [
    "### 逻辑变量\n",
    "       ### 取值为 True False\n",
    "       ### 逻辑算符为： and or not "
   ]
  },
  {
   "cell_type": "code",
   "execution_count": 11,
   "metadata": {},
   "outputs": [
    {
     "name": "stdout",
     "output_type": "stream",
     "text": [
      "True False False\n"
     ]
    }
   ],
   "source": [
    "a = True; \n",
    "\n",
    "b = a and False;\n",
    "\n",
    "print (a, not a, b)"
   ]
  },
  {
   "cell_type": "markdown",
   "metadata": {},
   "source": [
    "### 特殊变量 None，什么都没有"
   ]
  },
  {
   "cell_type": "code",
   "execution_count": 38,
   "metadata": {},
   "outputs": [
    {
     "name": "stdout",
     "output_type": "stream",
     "text": [
      "None\n"
     ]
    }
   ],
   "source": [
    "# None is not zero. None is just none...\n",
    "\n",
    "x= None; \n",
    "\n",
    "print(x)"
   ]
  },
  {
   "cell_type": "markdown",
   "metadata": {},
   "source": [
    "### 字符串。\n",
    "\n",
    "    可用 ' '  \" \" \n",
    "\n",
    "    可以用 + 号直接连接字符串"
   ]
  },
  {
   "cell_type": "code",
   "execution_count": 39,
   "metadata": {},
   "outputs": [
    {
     "name": "stdout",
     "output_type": "stream",
     "text": [
      "hahaha!I like python!\n",
      "hahaha! I like python!\n"
     ]
    }
   ],
   "source": [
    "str1 = 'hahaha!'; \n",
    "\n",
    "str2 = \"I like python!\"\n",
    "\n",
    "print (str1+str2)\n",
    "\n",
    "print (str1+' '+str2) # 这里用加法直接 粘贴 两个字符串为一个"
   ]
  },
  {
   "cell_type": "markdown",
   "metadata": {},
   "source": [
    "### 格式化输出， %d %f"
   ]
  },
  {
   "cell_type": "code",
   "execution_count": 40,
   "metadata": {},
   "outputs": [
    {
     "name": "stdout",
     "output_type": "stream",
     "text": [
      "1 3.140000\n",
      "001     3.1400\n"
     ]
    }
   ],
   "source": [
    "i = 1; x = 3.14;\n",
    "print( '%d'%i, '%f'%x )\n",
    "print( '%03d'%i, '%10.4f'%x )"
   ]
  },
  {
   "cell_type": "markdown",
   "metadata": {},
   "source": [
    "### 转义字符 \\n \\t \n",
    "\n"
   ]
  },
  {
   "cell_type": "code",
   "execution_count": 15,
   "metadata": {},
   "outputs": [
    {
     "name": "stdout",
     "output_type": "stream",
     "text": [
      "haha!\n",
      "\thaha!\n",
      "测试中文\n"
     ]
    }
   ],
   "source": [
    "print ('haha!\\n\\thaha!\\n测试中文')"
   ]
  },
  {
   "cell_type": "markdown",
   "metadata": {},
   "source": [
    "### 可以用 replace 作字符串替换"
   ]
  },
  {
   "cell_type": "code",
   "execution_count": 41,
   "metadata": {},
   "outputs": [
    {
     "data": {
      "text/plain": [
       "'Abc'"
      ]
     },
     "execution_count": 41,
     "metadata": {},
     "output_type": "execute_result"
    }
   ],
   "source": [
    "'abc'.replace('a', 'A') #字符串的替换"
   ]
  },
  {
   "cell_type": "markdown",
   "metadata": {},
   "source": [
    "# 第三章 列表list与元组 tuple"
   ]
  },
  {
   "cell_type": "markdown",
   "metadata": {},
   "source": [
    "### Python内置的一种数据类型是列表：list。\n",
    "\n",
    "    list是一种有序的集合，可以随时添加和删除其中的元素。\n",
    "    \n",
    "    list 很强大，支持不同类型的元素混合使用"
   ]
  },
  {
   "cell_type": "code",
   "execution_count": 54,
   "metadata": {},
   "outputs": [
    {
     "name": "stdout",
     "output_type": "stream",
     "text": [
      "[1, 2, 'word', True]\n"
     ]
    }
   ],
   "source": [
    "A = [1, 2, 'word', True] \n",
    "\n",
    "print(A)"
   ]
  },
  {
   "cell_type": "code",
   "execution_count": 55,
   "metadata": {},
   "outputs": [
    {
     "name": "stdout",
     "output_type": "stream",
     "text": [
      "1\n",
      "4\n",
      "True\n",
      "2\n"
     ]
    }
   ],
   "source": [
    "print(A[0])\n",
    "\n",
    "print(len(A))\n",
    "\n",
    "print(A[-1]) # 最后一个元素\n",
    "\n",
    "print(A[-3]) # 倒数第3个元素"
   ]
  },
  {
   "cell_type": "markdown",
   "metadata": {},
   "source": [
    "### 追加元素"
   ]
  },
  {
   "cell_type": "code",
   "execution_count": 56,
   "metadata": {},
   "outputs": [
    {
     "name": "stdout",
     "output_type": "stream",
     "text": [
      "[1, 2, 'word', True, 'appended element']\n"
     ]
    }
   ],
   "source": [
    "A.append('appended element'); \n",
    "\n",
    "print(A) "
   ]
  },
  {
   "cell_type": "markdown",
   "metadata": {},
   "source": [
    "### 改变某个元素"
   ]
  },
  {
   "cell_type": "code",
   "execution_count": 57,
   "metadata": {},
   "outputs": [
    {
     "name": "stdout",
     "output_type": "stream",
     "text": [
      "[[1, 2, 3, 4, 5], 2, 'word', True, 'appended element']\n"
     ]
    }
   ],
   "source": [
    "A[0] = [1,2,3,4,5]; \n",
    "\n",
    "print(A) "
   ]
  },
  {
   "cell_type": "markdown",
   "metadata": {},
   "source": [
    "### 删除元素"
   ]
  },
  {
   "cell_type": "code",
   "execution_count": 58,
   "metadata": {},
   "outputs": [
    {
     "name": "stdout",
     "output_type": "stream",
     "text": [
      "[[1, 2, 3, 4, 5], 2, True, 'appended element']\n"
     ]
    }
   ],
   "source": [
    "A.pop(2); \n",
    "\n",
    "print(A) #删除 index 为 2 的元素"
   ]
  },
  {
   "cell_type": "markdown",
   "metadata": {},
   "source": [
    "### 新增元素"
   ]
  },
  {
   "cell_type": "code",
   "execution_count": 59,
   "metadata": {},
   "outputs": [
    {
     "name": "stdout",
     "output_type": "stream",
     "text": [
      "[[1, 2, 3, 4, 5], 2, 3.1415, True, 'appended element']\n"
     ]
    }
   ],
   "source": [
    "A.insert(2, 3.1415); \n",
    "\n",
    "print(A) #新增 3.1415 为 第 2 个元素"
   ]
  },
  {
   "cell_type": "markdown",
   "metadata": {},
   "source": [
    "### 数组合并"
   ]
  },
  {
   "cell_type": "code",
   "execution_count": 74,
   "metadata": {},
   "outputs": [
    {
     "data": {
      "text/plain": [
       "[1, 2, 3, 'a', 'b', 'c']"
      ]
     },
     "execution_count": 74,
     "metadata": {},
     "output_type": "execute_result"
    }
   ],
   "source": [
    "[1,2,3] + ['a','b','c']"
   ]
  },
  {
   "cell_type": "markdown",
   "metadata": {},
   "source": [
    "### 数组倍增"
   ]
  },
  {
   "cell_type": "code",
   "execution_count": 80,
   "metadata": {},
   "outputs": [
    {
     "data": {
      "text/plain": [
       "[1, 2, 3, 1, 2, 3]"
      ]
     },
     "execution_count": 80,
     "metadata": {},
     "output_type": "execute_result"
    }
   ],
   "source": [
    "[1,2,3,] *2"
   ]
  },
  {
   "cell_type": "markdown",
   "metadata": {},
   "source": [
    "### 内置排序"
   ]
  },
  {
   "cell_type": "code",
   "execution_count": 61,
   "metadata": {},
   "outputs": [
    {
     "name": "stdout",
     "output_type": "stream",
     "text": [
      "[-1.2, 1.1, 3.2]\n"
     ]
    }
   ],
   "source": [
    "A = [1.1, 3.2, -1.2]\n",
    "\n",
    "A.sort() # 内置排序\n",
    "\n",
    "print (A)"
   ]
  },
  {
   "cell_type": "markdown",
   "metadata": {},
   "source": [
    "### 按照指定规则排序"
   ]
  },
  {
   "cell_type": "code",
   "execution_count": 62,
   "metadata": {},
   "outputs": [
    {
     "name": "stdout",
     "output_type": "stream",
     "text": [
      "[5, 4, 6, 0, 3, 9, 7, 1, 2, 8]\n",
      "[-0.9589242746631385, -0.7568024953079282, -0.27941549819892586, 0.0, 0.1411200080598672, 0.4121184852417566, 0.6569865987187891, 0.8414709848078965, 0.9092974268256817, 0.9893582466233818]\n"
     ]
    }
   ],
   "source": [
    "A = list(range(10))\n",
    "\n",
    "A.sort(key=np.sin) # 按照 np.sin() 作用到元素的大小排序\n",
    "\n",
    "print(A)\n",
    "\n",
    "print([np.sin(a) for a in A]) # 检查一下，果然排好了"
   ]
  },
  {
   "cell_type": "markdown",
   "metadata": {},
   "source": [
    "### sorted 排序不改变原 list 的值"
   ]
  },
  {
   "cell_type": "code",
   "execution_count": 63,
   "metadata": {},
   "outputs": [
    {
     "name": "stdout",
     "output_type": "stream",
     "text": [
      "[5, 4, 6, 0, 3, 9, 7, 1, 2, 8]\n",
      "[3, 9, 4, 2, 8, 5, 1, 7, 6, 0]\n",
      "[-0.9899924966004454, -0.9111302618846769, -0.6536436208636119, -0.4161468365471424, -0.14550003380861354, 0.28366218546322625, 0.5403023058681398, 0.7539022543433046, 0.960170286650366, 1.0]\n"
     ]
    }
   ],
   "source": [
    "B = sorted(A, key=np.cos) # sorted 不改变 A 的值，返回另一个列表\n",
    "print(A)\n",
    "print(B)\n",
    "print([np.cos(b) for b in B])"
   ]
  },
  {
   "cell_type": "markdown",
   "metadata": {},
   "source": [
    "### 两个 list 变量直接赋值:\n",
    "\n",
    "    不复制，指向同一个 list\n",
    "    \n",
    "    list 变量名相当于指针"
   ]
  },
  {
   "cell_type": "code",
   "execution_count": 81,
   "metadata": {},
   "outputs": [
    {
     "name": "stdout",
     "output_type": "stream",
     "text": [
      "[1, 2, 3] [1, 2, 3]\n",
      "[1, 2, 3, 3] [1, 2, 3, 3]\n"
     ]
    }
   ],
   "source": [
    "A = [1,2,3]\n",
    "\n",
    "B = A; # 并不是把 A 复制，而是把地址给 B。此时 B, A 指向同一个 list\n",
    "\n",
    "print(A, B)\n",
    "\n",
    "A.append(3); # 修改 A ，也会对 B 造成影响\n",
    "\n",
    "print(A, B) "
   ]
  },
  {
   "cell_type": "markdown",
   "metadata": {},
   "source": [
    "### 字符串本质是数组"
   ]
  },
  {
   "cell_type": "code",
   "execution_count": 82,
   "metadata": {},
   "outputs": [
    {
     "name": "stdout",
     "output_type": "stream",
     "text": [
      "h\n",
      "a\n",
      "h\n",
      "a\n",
      "h\n",
      "a\n",
      "!\n"
     ]
    }
   ],
   "source": [
    "for nowchar in 'hahaha!': # 字符串本质是 字符数组\n",
    "    print (nowchar)"
   ]
  },
  {
   "cell_type": "markdown",
   "metadata": {},
   "source": [
    "### 另一种有序列表叫元组：tuple。\n",
    "\n",
    "    ### tuple和list非常类似，但是tuple一旦初始化就不能修改"
   ]
  },
  {
   "cell_type": "code",
   "execution_count": 67,
   "metadata": {},
   "outputs": [
    {
     "name": "stdout",
     "output_type": "stream",
     "text": [
      "(1, 2)\n"
     ]
    }
   ],
   "source": [
    "X = (1,2); \n",
    "\n",
    "print(X)\n",
    "\n",
    "# X[0]=2 # 这一句会报错"
   ]
  },
  {
   "cell_type": "markdown",
   "metadata": {},
   "source": [
    "### 可以把 list, tuple 相互转换"
   ]
  },
  {
   "cell_type": "code",
   "execution_count": 68,
   "metadata": {},
   "outputs": [
    {
     "data": {
      "text/plain": [
       "[1, 2]"
      ]
     },
     "execution_count": 68,
     "metadata": {},
     "output_type": "execute_result"
    }
   ],
   "source": [
    "list((1,2))"
   ]
  },
  {
   "cell_type": "code",
   "execution_count": 69,
   "metadata": {},
   "outputs": [
    {
     "data": {
      "text/plain": [
       "(1, 2)"
      ]
     },
     "execution_count": 69,
     "metadata": {},
     "output_type": "execute_result"
    }
   ],
   "source": [
    "tuple([1,2])"
   ]
  },
  {
   "cell_type": "markdown",
   "metadata": {},
   "source": [
    "### 不可变的tuple有什么意义？\n",
    "\n",
    "    因为tuple不可变，所以代码更安全。\n",
    "       \n",
    "    如果可能，能用tuple代替list就尽量用tuple。"
   ]
  },
  {
   "cell_type": "markdown",
   "metadata": {},
   "source": [
    "# 第四章 分支与循环结构"
   ]
  },
  {
   "cell_type": "markdown",
   "metadata": {},
   "source": [
    "### 简洁的 冒号 + 缩进"
   ]
  },
  {
   "cell_type": "code",
   "execution_count": 83,
   "metadata": {},
   "outputs": [
    {
     "name": "stdout",
     "output_type": "stream",
     "text": [
      "False\n"
     ]
    }
   ],
   "source": [
    "L = True and False\n",
    "\n",
    "if L:\n",
    "    print ('True')\n",
    "else:\n",
    "    print('False')"
   ]
  },
  {
   "cell_type": "markdown",
   "metadata": {},
   "source": [
    "### elif 实现多重分支"
   ]
  },
  {
   "cell_type": "code",
   "execution_count": 90,
   "metadata": {},
   "outputs": [
    {
     "name": "stdout",
     "output_type": "stream",
     "text": [
      "0.9350218643871236\n",
      "x>0.8\n"
     ]
    }
   ],
   "source": [
    "x =  random.uniform(0,1)\n",
    "\n",
    "print(x)\n",
    "\n",
    "if x < 0.5:\n",
    "    print ('x<0.5')\n",
    "elif x < 0.8:\n",
    "    print ('0.5<x<0.8')\n",
    "else:\n",
    "    print('x>0.8')"
   ]
  },
  {
   "cell_type": "markdown",
   "metadata": {},
   "source": [
    "### for 循环：枚举型循环。\n",
    "    \n",
    "    循环变量可以是任何东东\n",
    "    \n",
    "    比 C Fortran 更加强大"
   ]
  },
  {
   "cell_type": "code",
   "execution_count": 91,
   "metadata": {},
   "outputs": [
    {
     "name": "stdout",
     "output_type": "stream",
     "text": [
      "1\n",
      "2\n",
      "3\n"
     ]
    }
   ],
   "source": [
    "for i in [1,2,3]: \n",
    "    print (i)"
   ]
  },
  {
   "cell_type": "code",
   "execution_count": 94,
   "metadata": {},
   "outputs": [
    {
     "name": "stdout",
     "output_type": "stream",
     "text": [
      "haha!\n",
      "oh my god!\n",
      "shit!\n"
     ]
    }
   ],
   "source": [
    "for nowstr in ['haha', 'oh my god', 'shit']:\n",
    "    print(nowstr+'!')"
   ]
  },
  {
   "cell_type": "markdown",
   "metadata": {},
   "source": [
    "### 使用内置函数  range(start, end, step) 生成整数序列"
   ]
  },
  {
   "cell_type": "code",
   "execution_count": 95,
   "metadata": {},
   "outputs": [
    {
     "data": {
      "text/plain": [
       "[0, 1, 2, 3, 4, 5, 6, 7, 8, 9]"
      ]
     },
     "execution_count": 95,
     "metadata": {},
     "output_type": "execute_result"
    }
   ],
   "source": [
    "list(range(10))"
   ]
  },
  {
   "cell_type": "code",
   "execution_count": 97,
   "metadata": {},
   "outputs": [
    {
     "name": "stdout",
     "output_type": "stream",
     "text": [
      "0\n",
      "1\n",
      "2\n",
      "3\n",
      "4\n",
      "5\n",
      "6\n",
      "7\n",
      "8\n",
      "9\n"
     ]
    }
   ],
   "source": [
    "for i in range(10):\n",
    "    print(i) "
   ]
  },
  {
   "cell_type": "markdown",
   "metadata": {},
   "source": [
    "### 简单的 1+。。。+ 100"
   ]
  },
  {
   "cell_type": "code",
   "execution_count": 98,
   "metadata": {},
   "outputs": [
    {
     "name": "stdout",
     "output_type": "stream",
     "text": [
      "5050\n"
     ]
    }
   ],
   "source": [
    "result = 0\n",
    "\n",
    "for i in range(101):\n",
    "    result+= i\n",
    "    \n",
    "print(result)"
   ]
  },
  {
   "cell_type": "markdown",
   "metadata": {},
   "source": [
    "### 可用 sum 函数求和"
   ]
  },
  {
   "cell_type": "code",
   "execution_count": 38,
   "metadata": {},
   "outputs": [
    {
     "data": {
      "text/plain": [
       "5050"
      ]
     },
     "execution_count": 38,
     "metadata": {},
     "output_type": "execute_result"
    }
   ],
   "source": [
    "sum(range(101)) "
   ]
  },
  {
   "cell_type": "markdown",
   "metadata": {},
   "source": [
    "### 也可以用 while"
   ]
  },
  {
   "cell_type": "code",
   "execution_count": 39,
   "metadata": {},
   "outputs": [
    {
     "name": "stdout",
     "output_type": "stream",
     "text": [
      "5050\n"
     ]
    }
   ],
   "source": [
    "result = 0\n",
    "i = 0\n",
    "\n",
    "while i<101: \n",
    "    result +=i \n",
    "    i+=1\n",
    "    \n",
    "print(result)"
   ]
  },
  {
   "cell_type": "markdown",
   "metadata": {},
   "source": [
    "### break 与 continue 语句"
   ]
  },
  {
   "cell_type": "code",
   "execution_count": 40,
   "metadata": {},
   "outputs": [
    {
     "name": "stdout",
     "output_type": "stream",
     "text": [
      "5050\n"
     ]
    }
   ],
   "source": [
    "result = 0 \n",
    "i = 0;\n",
    "\n",
    "while True: \n",
    "    result += i\n",
    "    i+=1\n",
    "    if i==101:\n",
    "        break\n",
    "    else:\n",
    "        continue \n",
    "        \n",
    "print(result)"
   ]
  },
  {
   "cell_type": "markdown",
   "metadata": {},
   "source": [
    "# 第五章 黑科技之 字典\n",
    "\n",
    "    与 list 类似，只不过 index 不再是 整数，而是 任意 东东"
   ]
  },
  {
   "cell_type": "code",
   "execution_count": 99,
   "metadata": {},
   "outputs": [
    {
     "name": "stdout",
     "output_type": "stream",
     "text": [
      "{'王帅': 'Shuai Wang', '笑': 'laugh'}\n"
     ]
    }
   ],
   "source": [
    "# 冒号前面是类似 index 的“键值”——英文为 key。 后面是内容\n",
    "\n",
    "A = { '王帅':'Shuai Wang', '笑':'laugh' }\n",
    "\n",
    "print(A) "
   ]
  },
  {
   "cell_type": "code",
   "execution_count": 100,
   "metadata": {},
   "outputs": [
    {
     "name": "stdout",
     "output_type": "stream",
     "text": [
      "Shuai Wang\n"
     ]
    }
   ],
   "source": [
    "print(A['王帅'])"
   ]
  },
  {
   "cell_type": "code",
   "execution_count": 101,
   "metadata": {},
   "outputs": [
    {
     "data": {
      "text/plain": [
       "dict_keys(['王帅', '笑'])"
      ]
     },
     "execution_count": 101,
     "metadata": {},
     "output_type": "execute_result"
    }
   ],
   "source": [
    "# 所有的 key\n",
    "\n",
    "A.keys()"
   ]
  },
  {
   "cell_type": "code",
   "execution_count": 102,
   "metadata": {},
   "outputs": [
    {
     "name": "stdout",
     "output_type": "stream",
     "text": [
      "王帅 Shuai Wang\n",
      "笑 laugh\n"
     ]
    }
   ],
   "source": [
    "# 字典遍历\n",
    "\n",
    "for nowkey in A.keys():\n",
    "    print (nowkey,  A[nowkey])"
   ]
  },
  {
   "cell_type": "code",
   "execution_count": 103,
   "metadata": {},
   "outputs": [
    {
     "name": "stdout",
     "output_type": "stream",
     "text": [
      "{'王帅': 'Shuai Wang', '笑': 'laugh', '地球': 'earth'}\n"
     ]
    }
   ],
   "source": [
    "# 增加一个元素，非常简单\n",
    "\n",
    "A['地球'] = 'earth' \n",
    "\n",
    "print(A)"
   ]
  },
  {
   "cell_type": "markdown",
   "metadata": {},
   "source": [
    "### 判断某个元素是否在字典里"
   ]
  },
  {
   "cell_type": "code",
   "execution_count": 104,
   "metadata": {},
   "outputs": [
    {
     "data": {
      "text/plain": [
       "True"
      ]
     },
     "execution_count": 104,
     "metadata": {},
     "output_type": "execute_result"
    }
   ],
   "source": [
    "'王帅' in A"
   ]
  },
  {
   "cell_type": "code",
   "execution_count": 105,
   "metadata": {},
   "outputs": [
    {
     "data": {
      "text/plain": [
       "False"
      ]
     },
     "execution_count": 105,
     "metadata": {},
     "output_type": "execute_result"
    }
   ],
   "source": [
    "'朱融' in A"
   ]
  },
  {
   "cell_type": "markdown",
   "metadata": {},
   "source": [
    "### 删除某个元素"
   ]
  },
  {
   "cell_type": "code",
   "execution_count": 106,
   "metadata": {},
   "outputs": [
    {
     "name": "stdout",
     "output_type": "stream",
     "text": [
      "{'笑': 'laugh', '地球': 'earth'}\n"
     ]
    }
   ],
   "source": [
    "A.pop('王帅')\n",
    "\n",
    "print(A)"
   ]
  },
  {
   "cell_type": "markdown",
   "metadata": {},
   "source": [
    "### python 还有 集合 这个结构\n",
    "    \n",
    "    内部元素 互不重复\n",
    "    \n",
    "\n",
    "    集合之间可以 合并交补"
   ]
  },
  {
   "cell_type": "code",
   "execution_count": 141,
   "metadata": {},
   "outputs": [
    {
     "name": "stdout",
     "output_type": "stream",
     "text": [
      "A =  {1, 2, 3}\n",
      "B =  {2, 3, 4}\n",
      "A & B =  {2, 3}\n",
      "A | B =  {1, 2, 3, 4}\n",
      "A ^ B =  {1, 4}\n",
      "A - B =  {1}\n"
     ]
    }
   ],
   "source": [
    "A = set([1,1,2,3,3,3])\n",
    "\n",
    "B = set([2,3,4])\n",
    "\n",
    "print('A = ', A)\n",
    "print('B = ', B)\n",
    "\n",
    "print ('A & B = ', A & B)\n",
    "\n",
    "print ('A | B = ', A | B)\n",
    "\n",
    "print ('A ^ B = ', A ^ B)\n",
    "\n",
    "print ('A - B = ', A - B)"
   ]
  },
  {
   "cell_type": "markdown",
   "metadata": {},
   "source": [
    "# 第六章 强大的函数"
   ]
  },
  {
   "cell_type": "markdown",
   "metadata": {},
   "source": [
    "### 用 def 声明函数。没有了变量类型的声明，很简洁"
   ]
  },
  {
   "cell_type": "code",
   "execution_count": 109,
   "metadata": {},
   "outputs": [
    {
     "data": {
      "text/plain": [
       "(9.0, 81, 10000)"
      ]
     },
     "execution_count": 109,
     "metadata": {},
     "output_type": "execute_result"
    }
   ],
   "source": [
    "def square(x):\n",
    "    return x*x\n",
    "\n",
    "square(3.), square(9), square(100)"
   ]
  },
  {
   "cell_type": "markdown",
   "metadata": {},
   "source": [
    "### 可以用 = 设置缺省参数，默认值为等号后面的数值\n",
    "    ### 下面计算 a*x + b*y，a b 不给出的情况下默认为 x+y"
   ]
  },
  {
   "cell_type": "code",
   "execution_count": 110,
   "metadata": {},
   "outputs": [
    {
     "name": "stdout",
     "output_type": "stream",
     "text": [
      "5\n",
      "8\n",
      "23\n"
     ]
    }
   ],
   "source": [
    "def linear_combination(x, y, a=1, b=1):\n",
    "    return a*x + b*y\n",
    "\n",
    "print(linear_combination(3, 2))\n",
    "\n",
    "print(linear_combination(3, 2, 2))\n",
    "\n",
    "print(linear_combination(3, 2, b=10))"
   ]
  },
  {
   "cell_type": "markdown",
   "metadata": {},
   "source": [
    "### 定义数目可变的参数： 用 *开头\n",
    "    这里的 * 不是指针的意思"
   ]
  },
  {
   "cell_type": "code",
   "execution_count": 111,
   "metadata": {},
   "outputs": [
    {
     "data": {
      "text/plain": [
       "(3, 15)"
      ]
     },
     "execution_count": 111,
     "metadata": {},
     "output_type": "execute_result"
    }
   ],
   "source": [
    "# 任意个数字的加法，爽吧\n",
    "\n",
    "def sum_numbers(*numbers): \n",
    "    result = 0\n",
    "    #print(numbers)\n",
    "    for nownumber in numbers:\n",
    "        result += nownumber\n",
    "    return result\n",
    "\n",
    "sum_numbers(1,2), sum_numbers(1,2,3,4,5)"
   ]
  },
  {
   "cell_type": "markdown",
   "metadata": {},
   "source": [
    "### * 的作用是把 [], () 给拆开"
   ]
  },
  {
   "cell_type": "code",
   "execution_count": 112,
   "metadata": {},
   "outputs": [
    {
     "name": "stdout",
     "output_type": "stream",
     "text": [
      "1 2 3\n",
      "1 2 3\n",
      "5050\n"
     ]
    }
   ],
   "source": [
    "# * 可以把 [], () 给拆开\n",
    "\n",
    "print(*[1,2,3])\n",
    "\n",
    "print(*(1,2,3))\n",
    "\n",
    "print(sum_numbers(*range(101)))"
   ]
  },
  {
   "cell_type": "markdown",
   "metadata": {},
   "source": [
    "### 两个 ** 时，缺省输入一个字典（自己看吧...）"
   ]
  },
  {
   "cell_type": "markdown",
   "metadata": {},
   "source": [
    "#### 这里的 kw 就是一个字典了。变量的名字是 key，变量的 value 是 kw[key]"
   ]
  },
  {
   "cell_type": "code",
   "execution_count": 113,
   "metadata": {},
   "outputs": [],
   "source": [
    "def print_info(num, name, score, **kw): # **可以缺省输入一个字典（*是缺省 list）\n",
    "    \n",
    "    print('num: ', num)\n",
    "    print('name: ', name)\n",
    "    print('score: ', score)\n",
    "    \n",
    "    for other in kw:\n",
    "        print(other, kw[other])\n",
    "    \n",
    "    if 'age' in kw:\n",
    "        print('The age is ', kw['age'])\n",
    "        if kw['age'] <= 18:\n",
    "            print(name, 'is still a young man <18 years old!')"
   ]
  },
  {
   "cell_type": "code",
   "execution_count": 114,
   "metadata": {},
   "outputs": [
    {
     "name": "stdout",
     "output_type": "stream",
     "text": [
      "num:  13\n",
      "name:  苗海涛\n",
      "score:  99.5\n",
      "age 18\n",
      "gender M\n",
      "The age is  18\n",
      "苗海涛 is still a young man <18 years old!\n"
     ]
    }
   ],
   "source": [
    "print_info(13, '苗海涛', 99.5, age=18, gender='M')"
   ]
  },
  {
   "cell_type": "code",
   "execution_count": 115,
   "metadata": {},
   "outputs": [
    {
     "name": "stdout",
     "output_type": "stream",
     "text": [
      "num:  13\n",
      "name:  苗海涛\n",
      "score:  99.5\n",
      "age 28\n",
      "gender M\n",
      "The age is  28\n"
     ]
    }
   ],
   "source": [
    "infos = {'age':28, 'gender':'M'}\n",
    "\n",
    "print_info(13, '苗海涛', 99.5, **infos)"
   ]
  },
  {
   "cell_type": "markdown",
   "metadata": {},
   "source": [
    "### 递归函数\n",
    "    python 支持递归函数，用法很平常"
   ]
  },
  {
   "cell_type": "code",
   "execution_count": 116,
   "metadata": {},
   "outputs": [
    {
     "name": "stdout",
     "output_type": "stream",
     "text": [
      "93326215443944152681699238856266700490715968264381621468592963895217599993229915608941463976156518286253697920827223758251185210916864000000000000000000000000\n"
     ]
    }
   ],
   "source": [
    "def fact(n):\n",
    "    if n==1:\n",
    "        return 1\n",
    "    else:\n",
    "        return n*fact(n-1)\n",
    "print(fact(100)) "
   ]
  },
  {
   "cell_type": "markdown",
   "metadata": {},
   "source": [
    "### 函数作为变量\n",
    "    python 非常灵活，一个变量可以是数字，字符串，函数，... 泛泛地说，任何东东"
   ]
  },
  {
   "cell_type": "markdown",
   "metadata": {},
   "source": [
    "#### 这里定义了求导函数"
   ]
  },
  {
   "cell_type": "code",
   "execution_count": 117,
   "metadata": {},
   "outputs": [
    {
     "name": "stdout",
     "output_type": "stream",
     "text": [
      "1.0\n",
      "2.7182811557224795\n"
     ]
    }
   ],
   "source": [
    "def Dfx(f, x, dx):\n",
    "    return (f(x+dx) - f(x-dx))/(2*dx)\n",
    "\n",
    "print(Dfx(np.sin, 0.0, 1e-10))\n",
    "\n",
    "print(Dfx(np.exp, 1.0, 1e-10))"
   ]
  },
  {
   "cell_type": "markdown",
   "metadata": {},
   "source": [
    "### 可以用 map 把函数作用到 list, tuple 上，生成某个“迭代逻辑”"
   ]
  },
  {
   "cell_type": "markdown",
   "metadata": {},
   "source": [
    "### 只是生成了逻辑，并不会真的计算出数值"
   ]
  },
  {
   "cell_type": "code",
   "execution_count": 11,
   "metadata": {},
   "outputs": [
    {
     "data": {
      "text/plain": [
       "<map at 0x7fa490272860>"
      ]
     },
     "execution_count": 11,
     "metadata": {},
     "output_type": "execute_result"
    }
   ],
   "source": [
    "map(np.exp, range(10000000))"
   ]
  },
  {
   "cell_type": "markdown",
   "metadata": {},
   "source": [
    "### 但是该逻辑是可以枚举的。计算时，就会发现占用时间"
   ]
  },
  {
   "cell_type": "code",
   "execution_count": 12,
   "metadata": {},
   "outputs": [],
   "source": [
    "for x in map(np.exp, range(10000000)):\n",
    "    y = x"
   ]
  },
  {
   "cell_type": "markdown",
   "metadata": {},
   "source": [
    "# 第七章 列表，迭代，生成器中的黑科技"
   ]
  },
  {
   "cell_type": "markdown",
   "metadata": {},
   "source": [
    "### 可以用冒号方便地抽取列表中的某一部分元素，构成新列表"
   ]
  },
  {
   "cell_type": "code",
   "execution_count": 62,
   "metadata": {},
   "outputs": [
    {
     "name": "stdout",
     "output_type": "stream",
     "text": [
      "[3, 4, 5, 6, 7, 8, 9]\n",
      "[3, 5, 7, 9]\n"
     ]
    }
   ],
   "source": [
    "A = [0, 1, 2, 3, 4, 5, 6, 7, 8, 9, 10]\n",
    "\n",
    "print(A[3:10])\n",
    "\n",
    "print(A[3:10:2]) # 取 A 中的某些元素， start : end : step"
   ]
  },
  {
   "cell_type": "markdown",
   "metadata": {},
   "source": [
    "### 冒号周围的三个数可以省略1个，2个，3个。。。"
   ]
  },
  {
   "cell_type": "code",
   "execution_count": 63,
   "metadata": {},
   "outputs": [
    {
     "name": "stdout",
     "output_type": "stream",
     "text": [
      "A =  [1000, 1, 2, 3, 4, 5, 6, 7, 8, 9, 10]\n",
      "B =  [0, 1, 2, 3, 4, 5, 6, 7, 8, 9, 10]\n"
     ]
    }
   ],
   "source": [
    "A = [0, 1, 2, 3, 4, 5, 6, 7, 8, 9, 10]\n",
    "\n",
    "B = A[:] # 此时 B 是把 A 的元素重组成的数组，B 和 A 不指向同样的内容。把 A 做了复制\n",
    "\n",
    "A[0] = 1000\n",
    "\n",
    "print('A = ',A)\n",
    "\n",
    "print('B = ',B)"
   ]
  },
  {
   "cell_type": "markdown",
   "metadata": {},
   "source": [
    "### 可以用乘号初始化列表"
   ]
  },
  {
   "cell_type": "code",
   "execution_count": 64,
   "metadata": {},
   "outputs": [
    {
     "name": "stdout",
     "output_type": "stream",
     "text": [
      "[0, 0, 0, 0, 0, 0, 0, 0, 0, 0, 0, 0, 0, 0, 0, 0, 0, 0, 0, 0, 0, 0, 0, 0, 0, 0, 0, 0, 0, 0, 0, 0, 0, 0, 0, 0, 0, 0, 0, 0, 0, 0, 0, 0, 0, 0, 0, 0, 0, 0, 0, 0, 0, 0, 0, 0, 0, 0, 0, 0, 0, 0, 0, 0, 0, 0, 0, 0, 0, 0, 0, 0, 0, 0, 0, 0, 0, 0, 0, 0, 0, 0, 0, 0, 0, 0, 0, 0, 0, 0, 0, 0, 0, 0, 0, 0, 0, 0, 0, 0]\n"
     ]
    }
   ],
   "source": [
    "A = [0] * 100\n",
    "print (A)"
   ]
  },
  {
   "cell_type": "markdown",
   "metadata": {},
   "source": [
    "### 可以用通项公式初始化列表"
   ]
  },
  {
   "cell_type": "code",
   "execution_count": 65,
   "metadata": {},
   "outputs": [
    {
     "name": "stdout",
     "output_type": "stream",
     "text": [
      "[0, 1, 4, 9, 16, 25, 36, 49, 64, 81, 100, 121, 144, 169, 196, 225, 256, 289, 324, 361, 400, 441, 484, 529, 576, 625, 676, 729, 784, 841, 900, 961, 1024, 1089, 1156, 1225, 1296, 1369, 1444, 1521, 1600, 1681, 1764, 1849, 1936, 2025, 2116, 2209, 2304, 2401, 2500, 2601, 2704, 2809, 2916, 3025, 3136, 3249, 3364, 3481, 3600, 3721, 3844, 3969, 4096, 4225, 4356, 4489, 4624, 4761, 4900, 5041, 5184, 5329, 5476, 5625, 5776, 5929, 6084, 6241, 6400, 6561, 6724, 6889, 7056, 7225, 7396, 7569, 7744, 7921, 8100, 8281, 8464, 8649, 8836, 9025, 9216, 9409, 9604, 9801, 10000]\n"
     ]
    }
   ],
   "source": [
    "A = [row**2 for row in range(101)] # 用 通项公式 定义数组\n",
    "\n",
    "print(A)"
   ]
  },
  {
   "cell_type": "markdown",
   "metadata": {},
   "source": [
    "### 甚至支持双重循环"
   ]
  },
  {
   "cell_type": "code",
   "execution_count": 66,
   "metadata": {},
   "outputs": [
    {
     "data": {
      "text/plain": [
       "['He is a smart man.',\n",
       " 'He is a smart lady.',\n",
       " 'He is a smart child.',\n",
       " 'He is a stupid man.',\n",
       " 'He is a stupid lady.',\n",
       " 'He is a stupid child.']"
      ]
     },
     "execution_count": 66,
     "metadata": {},
     "output_type": "execute_result"
    }
   ],
   "source": [
    "[ 'He is a '+str1+' '+str2+'.' for str1 in ['smart', 'stupid'] for str2 in ['man', 'lady', 'child']]"
   ]
  },
  {
   "cell_type": "markdown",
   "metadata": {},
   "source": [
    "### 想定义高维度列表？"
   ]
  },
  {
   "cell_type": "code",
   "execution_count": 67,
   "metadata": {},
   "outputs": [
    {
     "data": {
      "text/plain": [
       "[[0, 1, 2], [100, 101, 102], [200, 201, 202]]"
      ]
     },
     "execution_count": 67,
     "metadata": {},
     "output_type": "execute_result"
    }
   ],
   "source": [
    " [ [ row1*100 + row2  for row2 in range(3)  ] for row1 in range(3) ]"
   ]
  },
  {
   "cell_type": "markdown",
   "metadata": {},
   "source": [
    "### 其实 for 比你想象中强大得多。下面用 for 同时迭代多个变量"
   ]
  },
  {
   "cell_type": "code",
   "execution_count": 124,
   "metadata": {},
   "outputs": [
    {
     "name": "stdout",
     "output_type": "stream",
     "text": [
      "x, y =  1 2\n",
      "x, y =  3 4\n"
     ]
    }
   ],
   "source": [
    "for x,y in  [[1,2],[3,4]]:\n",
    "    print (  'x, y = ', x, y)"
   ]
  },
  {
   "cell_type": "markdown",
   "metadata": {},
   "source": [
    "### python 在序列方面能力强大。这里再讲一个黑科技 ，yield，另一种序列生成器。大家自己看"
   ]
  },
  {
   "cell_type": "code",
   "execution_count": 125,
   "metadata": {},
   "outputs": [
    {
     "name": "stdout",
     "output_type": "stream",
     "text": [
      "1\n",
      "2\n",
      "3\n",
      "4\n",
      "5\n",
      "6\n",
      "7\n",
      "8\n",
      "9\n",
      "10\n"
     ]
    }
   ],
   "source": [
    "# yield 称为 generator，是序列的生成器\n",
    "\n",
    "# generator和函数的执行流程不一样。函数是顺序执行，遇到return语句或者最后一行函数语句就返回。\n",
    "\n",
    "# 而变成generator的函数，在每次调用next()的时候执行，遇到yield语句返回，再次执行时从上次返回的yield语句处继续执行。\n",
    "\n",
    "# 生成器可以表示无限大的序列（如全体自然数），但list不能（受到存储空间限制）\n",
    "\n",
    "def generator_ex():\n",
    "    i = 0\n",
    "    while i<10:\n",
    "        i+=1\n",
    "        yield i\n",
    "    return i\n",
    "\n",
    "for row in generator_ex():\n",
    "    print(row)"
   ]
  },
  {
   "cell_type": "markdown",
   "metadata": {},
   "source": [
    "###  enumerate 作为枚举，自动给序列编号"
   ]
  },
  {
   "cell_type": "code",
   "execution_count": 126,
   "metadata": {},
   "outputs": [
    {
     "name": "stdout",
     "output_type": "stream",
     "text": [
      "(0, '王帅')\n",
      "(1, '朱融')\n",
      "(2, '曹操')\n",
      "(3, '诸葛亮')\n",
      "(4, '特朗普')\n"
     ]
    }
   ],
   "source": [
    "names = ['王帅', '朱融', '曹操', '诸葛亮', '特朗普']\n",
    "\n",
    "for X in enumerate(names):\n",
    "    print(X)"
   ]
  },
  {
   "cell_type": "markdown",
   "metadata": {},
   "source": [
    "# 第八章 numpy 简介"
   ]
  },
  {
   "cell_type": "markdown",
   "metadata": {},
   "source": [
    "#### NumPy 是一个 Python 包。 它代表 “Numeric Python”。 \n",
    "\n",
    "    它是一个由多维数组对象和用于处理数组的例程集合组成的库。\n",
    "\n",
    "#### 使用NumPy，开发人员可以执行以下操作：\n",
    "\n",
    "    数组的算数和逻辑运算。\n",
    "\n",
    "    傅立叶变换和用于图形操作的例程。\n",
    "\n",
    "    与线性代数有关的操作。 NumPy 拥有线性代数和随机数生成的内置函数。\n",
    "    \n",
    "    NumPy 通常与 SciPy（Scientific Python）和 Matplotlib（绘图库）一起使用。 \n",
    "\n",
    "    这种组合广泛用于替代 MatLab，是一个流行的技术计算平台。 \n",
    "\n",
    "    但是，Python 作为 MatLab 的替代方案，现在被视为一种更加现代和完整的编程语言。\n",
    "\n",
    "    NumPy 是开源的，这是它的一个额外的优势"
   ]
  },
  {
   "cell_type": "markdown",
   "metadata": {},
   "source": [
    "#### NumPy 中定义的最重要的对象是称为 ndarray 的 N 维数组类型。 \n",
    "    \n",
    "    它描述相同类型的元素集合。 \n",
    "    \n",
    "    可以使用基于零的索引访问集合中的项目。\n",
    "\n",
    "    ndarray中的每个元素在内存中使用相同大小的块。 \n",
    "    \n",
    "    ndarray中的每个元素是数据类型对象的对象（称为 dtype）。\n",
    "    \n",
    "    下面这张图展示了 array 与 list 在内存存储中的不同。list 其实是指向各种对象的指针数组。"
   ]
  },
  {
   "cell_type": "code",
   "execution_count": 18,
   "metadata": {},
   "outputs": [
    {
     "data": {
      "text/html": [
       "\n",
       "    <h1></h1>\n",
       "    <h2></h2>\n",
       "    <img src=\"data:image/png;base64,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\"/>\n",
       "    "
      ],
      "text/plain": [
       "<IPython.core.display.HTML object>"
      ]
     },
     "execution_count": 18,
     "metadata": {},
     "output_type": "execute_result"
    }
   ],
   "source": [
    "from IPython.core.display import HTML\n",
    "\n",
    "def putFIG():\n",
    "    source = \"\"\"\n",
    "    <h1></h1>\n",
    "    <h2></h2>\n",
    "    <img src=\"data:image/png;base64,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\"/>\n",
    "    \"\"\"\n",
    "    return HTML(source)\n",
    "\n",
    "putFIG()"
   ]
  },
  {
   "cell_type": "markdown",
   "metadata": {},
   "source": [
    "### 可以简单地将 list ，元祖转成 array"
   ]
  },
  {
   "cell_type": "code",
   "execution_count": 74,
   "metadata": {},
   "outputs": [
    {
     "name": "stdout",
     "output_type": "stream",
     "text": [
      "[1.  2.  3.  4.  5.1] [0 1 2 3 4 5 6 7 8 9]\n"
     ]
    }
   ],
   "source": [
    "A, B = np.array([1,2,3,4.0, 5.1]), np.array(range(10))\n",
    "\n",
    "print(A, B)"
   ]
  },
  {
   "cell_type": "markdown",
   "metadata": {},
   "source": [
    "### 查看一下，numpy 把它们转成什么类型了？\n",
    "    \n",
    "    numpy 支持的数据类型如下：\n",
    "    \n",
    "        序号\t数据类型及描述\n",
    "        1.\tbool_ 存储为一个字节的布尔值（真或假）\n",
    "        2.\tint_ 默认整数，相当于 C 的long，通常为int32或int64\n",
    "        3.\tintc 相当于 C 的int，通常为int32或int64\n",
    "        4.\tintp 用于索引的整数，相当于 C 的size_t，通常为int32或int64\n",
    "        5.\tint8 字节（-128 ~ 127）\n",
    "        6.\tint16 16 位整数（-32768 ~ 32767）\n",
    "        7.\tint32 32 位整数（-2147483648 ~ 2147483647）\n",
    "        8.\tint64 64 位整数（-9223372036854775808 ~ 9223372036854775807）\n",
    "        9.\tuint8 8 位无符号整数（0 ~ 255）\n",
    "        10.\tuint16 16 位无符号整数（0 ~ 65535）\n",
    "        11.\tuint32 32 位无符号整数（0 ~ 4294967295）\n",
    "        12.\tuint64 64 位无符号整数（0 ~ 18446744073709551615）\n",
    "        13.\tfloat_ float64的简写\n",
    "        14.\tfloat16 半精度浮点：符号位，5 位指数，10 位尾数\n",
    "        15.\tfloat32 单精度浮点：符号位，8 位指数，23 位尾数\n",
    "        16.\tfloat64 双精度浮点：符号位，11 位指数，52 位尾数\n",
    "        17.\tcomplex_ complex128的简写\n",
    "        18.\tcomplex64 复数，由两个 32 位浮点表示（实部和虚部）\n",
    "        19.\tcomplex128 复数，由两个 64 位浮点表示（实部和虚部）"
   ]
  },
  {
   "cell_type": "code",
   "execution_count": 75,
   "metadata": {},
   "outputs": [
    {
     "data": {
      "text/plain": [
       "(dtype('float64'), dtype('int32'))"
      ]
     },
     "execution_count": 75,
     "metadata": {},
     "output_type": "execute_result"
    }
   ],
   "source": [
    "A.dtype, B.dtype"
   ]
  },
  {
   "cell_type": "markdown",
   "metadata": {},
   "source": [
    "### 用 shape 得到数组的大小"
   ]
  },
  {
   "cell_type": "code",
   "execution_count": 76,
   "metadata": {},
   "outputs": [
    {
     "name": "stdout",
     "output_type": "stream",
     "text": [
      "A =  [[    0     0]\n",
      " [    1     1]\n",
      " [    2     2]\n",
      " ...\n",
      " [99997 99997]\n",
      " [99998 99998]\n",
      " [99999 99999]]\n",
      "shape of A =  (100000, 2)\n"
     ]
    }
   ],
   "source": [
    "A = np.array(  list(enumerate(range(100000))))\n",
    "\n",
    "print('A = ', A) # 这里的打印自动省略了中间的部分\n",
    "\n",
    "print('shape of A = ', A.shape)"
   ]
  },
  {
   "cell_type": "markdown",
   "metadata": {},
   "source": [
    "### 矩阵操作\n",
    "    NumPy 包包含numpy.linalg模块，提供线性代数所需的所有功能。 此模块中的一些重要功能如下表所述。\n",
    "\n",
    "    序号\t函数及描述\n",
    "    1.\tdot 两个数组的点积\n",
    "    2.\tvdot 两个向量的点积\n",
    "    3.\tinner 两个数组的内积\n",
    "    4.\tmatmul 两个数组的矩阵积\n",
    "    5.\tdeterminant 数组的行列式\n",
    "    6.\tsolve 求解线性矩阵方程\n",
    "    7.\tinv 寻找矩阵的乘法逆矩阵"
   ]
  },
  {
   "cell_type": "markdown",
   "metadata": {},
   "source": [
    "#### 初始化： 一句话生成 3*3 随机矩阵"
   ]
  },
  {
   "cell_type": "code",
   "execution_count": 30,
   "metadata": {},
   "outputs": [
    {
     "name": "stdout",
     "output_type": "stream",
     "text": [
      "A =  [[0.41540476 0.31383141 0.59688855]\n",
      " [0.89951826 0.96683415 0.72343065]\n",
      " [0.92666988 0.69863078 0.58442928]]\n",
      "B =  [[0.43175354 0.03692398 0.59798213]\n",
      " [0.5446357  0.29854636 0.62055356]\n",
      " [0.9706246  0.75056397 0.95561811]]\n"
     ]
    }
   ],
   "source": [
    "A = np.random.uniform(0,1, size=9).reshape(3,3)\n",
    "\n",
    "B = np.random.uniform(0,1, size=9).reshape(3,3)\n",
    "\n",
    "print('A = ', A)\n",
    "\n",
    "print('B = ', B)"
   ]
  },
  {
   "cell_type": "markdown",
   "metadata": {},
   "source": [
    "#### 矩阵乘法"
   ]
  },
  {
   "cell_type": "code",
   "execution_count": 78,
   "metadata": {},
   "outputs": [
    {
     "data": {
      "text/plain": [
       "array([[0.65687412, 0.67303106, 0.69466498],\n",
       "       [0.41624327, 0.80705242, 0.9460141 ],\n",
       "       [0.52321813, 0.77094335, 0.86530313]])"
      ]
     },
     "execution_count": 78,
     "metadata": {},
     "output_type": "execute_result"
    }
   ],
   "source": [
    "np.linalg.linalg.matmul(A, B)"
   ]
  },
  {
   "cell_type": "markdown",
   "metadata": {},
   "source": [
    "#### 求逆"
   ]
  },
  {
   "cell_type": "code",
   "execution_count": 79,
   "metadata": {},
   "outputs": [
    {
     "name": "stdout",
     "output_type": "stream",
     "text": [
      "[[  41.12894948   61.35573133  -99.90885935]\n",
      " [ -65.85379945 -102.46891704  165.80696769]\n",
      " [  -9.06433406  -11.89966865   21.26138692]]\n",
      "[[ 1.00000000e+00  1.50860761e-15  3.15905950e-15]\n",
      " [-1.30913616e-15  1.00000000e+00  1.10861437e-15]\n",
      " [-1.15232437e-15  1.04471451e-16  1.00000000e+00]]\n"
     ]
    }
   ],
   "source": [
    "C = np.linalg.inv(A)\n",
    "\n",
    "print (C)\n",
    "\n",
    "print (np.linalg.linalg.matmul(A, C))"
   ]
  },
  {
   "cell_type": "markdown",
   "metadata": {},
   "source": [
    "#### 特征值，特征向量"
   ]
  },
  {
   "cell_type": "code",
   "execution_count": 80,
   "metadata": {},
   "outputs": [
    {
     "data": {
      "text/plain": [
       "(array([16.64714378, -0.92288596,  0.17574217]),\n",
       " array([[-0.22435673, -0.86016017,  0.29127958],\n",
       "        [-0.5060675 ,  0.06899049, -0.8309771 ],\n",
       "        [-0.83280234,  0.50533631,  0.47395491]]))"
      ]
     },
     "execution_count": 80,
     "metadata": {},
     "output_type": "execute_result"
    }
   ],
   "source": [
    "A=np.array([[1,2,3],[4,5,6],[7,8,9.9]])\n",
    "\n",
    "np.linalg.eig(A)"
   ]
  },
  {
   "cell_type": "code",
   "execution_count": 81,
   "metadata": {
    "scrolled": true
   },
   "outputs": [
    {
     "name": "stdout",
     "output_type": "stream",
     "text": [
      "\n",
      "The 1th eigenvalue, vector = \n",
      "\t 16.647143784889728 [-0.22435673 -0.5060675  -0.83280234]\n",
      "  We test them: \n",
      " \t  mult(A,v) =  [ -3.73489876  -8.42457849 -13.86378032] \n",
      "\t  val * v   =  [ -3.73489876  -8.42457849 -13.86378032]\n",
      "\n",
      "The 2th eigenvalue, vector = \n",
      "\t -0.9228859590578815 [-0.86016017  0.06899049  0.50533631]\n",
      "  We test them: \n",
      " \t  mult(A,v) =  [ 0.79382975 -0.06367036 -0.46636779] \n",
      "\t  val * v   =  [ 0.79382975 -0.06367036 -0.46636779]\n",
      "\n",
      "The 3th eigenvalue, vector = \n",
      "\t 0.17574217416815982 [ 0.29127958 -0.8309771   0.47395491]\n",
      "  We test them: \n",
      " \t  mult(A,v) =  [ 0.05119011 -0.14603772  0.08329387] \n",
      "\t  val * v   =  [ 0.05119011 -0.14603772  0.08329387]\n"
     ]
    }
   ],
   "source": [
    "vals, vs = np.linalg.eig(A)\n",
    "\n",
    "for row in range(len(vals)):\n",
    "    val, v = vals[row], vs[:,row]\n",
    "    print('\\nThe %d'%(row+1)+'th eigenvalue, vector = \\n\\t', val, v)\n",
    "    print('  We test them: \\n','\\t  mult(A,v) = ', np.linalg.linalg.matmul(A, v), '\\n\\t  val * v   = ', val*v )"
   ]
  },
  {
   "cell_type": "markdown",
   "metadata": {},
   "source": [
    "### 快速索引的黑科技\n",
    "    #### 找到所有  sin(x) > 0.99 的 x, x 为 < 1000 的正整数 "
   ]
  },
  {
   "cell_type": "code",
   "execution_count": 20,
   "metadata": {},
   "outputs": [
    {
     "name": "stdout",
     "output_type": "stream",
     "text": [
      "[ 33  77 278 322 366 410 454 611 655 699 743 787 988] \n",
      "\n",
      " [0.99991186 0.99952016 0.99952109 0.99991226 0.99999007 0.99975451\n",
      " 0.99920563 0.99920923 0.99975651 0.99999047 0.99991106 0.99951829\n",
      " 0.99952296]\n"
     ]
    }
   ],
   "source": [
    "X1 = np.array(range(1000))\n",
    "\n",
    "indices = np.where(np.sin(X1)>0.999)\n",
    "\n",
    "print(X1[indices], '\\n\\n', np.sin(X1[indices]))"
   ]
  },
  {
   "cell_type": "code",
   "execution_count": 24,
   "metadata": {},
   "outputs": [
    {
     "data": {
      "text/plain": [
       "array([ 33,  77, 278, 322, 366, 410, 454, 611, 655, 699, 743, 787, 988])"
      ]
     },
     "execution_count": 24,
     "metadata": {},
     "output_type": "execute_result"
    }
   ],
   "source": [
    "X1[np.where(np.sin(X1) > 0.999)]"
   ]
  },
  {
   "cell_type": "markdown",
   "metadata": {},
   "source": [
    "### 其他好用的函数"
   ]
  },
  {
   "cell_type": "code",
   "execution_count": 83,
   "metadata": {},
   "outputs": [
    {
     "data": {
      "text/plain": [
       "array([0.        , 0.01010101, 0.02020202, 0.03030303, 0.04040404,\n",
       "       0.05050505, 0.06060606, 0.07070707, 0.08080808, 0.09090909,\n",
       "       0.1010101 , 0.11111111, 0.12121212, 0.13131313, 0.14141414,\n",
       "       0.15151515, 0.16161616, 0.17171717, 0.18181818, 0.19191919,\n",
       "       0.2020202 , 0.21212121, 0.22222222, 0.23232323, 0.24242424,\n",
       "       0.25252525, 0.26262626, 0.27272727, 0.28282828, 0.29292929,\n",
       "       0.3030303 , 0.31313131, 0.32323232, 0.33333333, 0.34343434,\n",
       "       0.35353535, 0.36363636, 0.37373737, 0.38383838, 0.39393939,\n",
       "       0.4040404 , 0.41414141, 0.42424242, 0.43434343, 0.44444444,\n",
       "       0.45454545, 0.46464646, 0.47474747, 0.48484848, 0.49494949,\n",
       "       0.50505051, 0.51515152, 0.52525253, 0.53535354, 0.54545455,\n",
       "       0.55555556, 0.56565657, 0.57575758, 0.58585859, 0.5959596 ,\n",
       "       0.60606061, 0.61616162, 0.62626263, 0.63636364, 0.64646465,\n",
       "       0.65656566, 0.66666667, 0.67676768, 0.68686869, 0.6969697 ,\n",
       "       0.70707071, 0.71717172, 0.72727273, 0.73737374, 0.74747475,\n",
       "       0.75757576, 0.76767677, 0.77777778, 0.78787879, 0.7979798 ,\n",
       "       0.80808081, 0.81818182, 0.82828283, 0.83838384, 0.84848485,\n",
       "       0.85858586, 0.86868687, 0.87878788, 0.88888889, 0.8989899 ,\n",
       "       0.90909091, 0.91919192, 0.92929293, 0.93939394, 0.94949495,\n",
       "       0.95959596, 0.96969697, 0.97979798, 0.98989899, 1.        ])"
      ]
     },
     "execution_count": 83,
     "metadata": {},
     "output_type": "execute_result"
    }
   ],
   "source": [
    "## linspace，指定 开头 结尾 长度，生成等差数列\n",
    "np.linspace(0,1,100)"
   ]
  },
  {
   "cell_type": "code",
   "execution_count": 26,
   "metadata": {},
   "outputs": [],
   "source": [
    "# 读写文件\n",
    "# np.loadtxt, np.savetxt"
   ]
  },
  {
   "cell_type": "markdown",
   "metadata": {},
   "source": [
    "# 第九章 matplotlib 简介"
   ]
  },
  {
   "cell_type": "markdown",
   "metadata": {},
   "source": [
    "### 用下面命令“内构” numpy, matplotlib，图形"
   ]
  },
  {
   "cell_type": "code",
   "execution_count": 28,
   "metadata": {},
   "outputs": [
    {
     "name": "stdout",
     "output_type": "stream",
     "text": [
      "Populating the interactive namespace from numpy and matplotlib\n"
     ]
    },
    {
     "name": "stderr",
     "output_type": "stream",
     "text": [
      "/home/xiaodongli/software/anaconda3/lib/python3.7/site-packages/IPython/core/magics/pylab.py:160: UserWarning: pylab import has clobbered these variables: ['random', 'indices']\n",
      "`%matplotlib` prevents importing * from pylab and numpy\n",
      "  \"\\n`%matplotlib` prevents importing * from pylab and numpy\"\n"
     ]
    }
   ],
   "source": [
    "%pylab inline"
   ]
  },
  {
   "cell_type": "code",
   "execution_count": 31,
   "metadata": {},
   "outputs": [
    {
     "data": {
      "text/plain": [
       "array([[0.92963097, 0.55703466, 1.01355133],\n",
       "       [1.61712217, 0.86483959, 1.82919165],\n",
       "       [1.3478537 , 0.68144158, 1.54616105]])"
      ]
     },
     "execution_count": 31,
     "metadata": {},
     "output_type": "execute_result"
    }
   ],
   "source": [
    "np.matmul(A, B)"
   ]
  },
  {
   "cell_type": "markdown",
   "metadata": {},
   "source": [
    "# 问题：请在 0 到 2*pi 区间绘制  sin(x), cos(x), sin(2x) 的图像？要求有 label、legend、title。 "
   ]
  },
  {
   "cell_type": "markdown",
   "metadata": {},
   "source": [
    "### fig, ax 命令\n",
    "    \n",
    "    plt.figure(num=None, figsize=None, dpi=None, facecolor=None, edgecolor=None, frameon=True, FigureClass=<class 'matplotlib.figure.Figure'>, clear=False, **kwargs)"
   ]
  },
  {
   "cell_type": "code",
   "execution_count": 87,
   "metadata": {},
   "outputs": [],
   "source": [
    "# draw it here..."
   ]
  },
  {
   "cell_type": "code",
   "execution_count": 32,
   "metadata": {},
   "outputs": [
    {
     "data": {
      "image/png": "[encoded data removed]",
      "text/plain": [
       "<Figure size 1008x432 with 1 Axes>"
      ]
     },
     "metadata": {
      "needs_background": "light"
     },
     "output_type": "display_data"
    }
   ],
   "source": [
    "fig = plt.figure(figsize=(14,6))\n",
    "\n",
    "ax = fig.add_subplot(111) # 1*1 阵列， 第 1 张图\n",
    "\n",
    "X = np.linspace(0, 2*pi, 100) # 生成等差序列 ， 0-2*pi, 个数 100\n",
    "Y = sin(X)\n",
    "\n",
    "ax.plot(X,Y, label='sin(x)', c='r')\n",
    "\n",
    "Y2, Y3 = cos(X), sin(2*X)\n",
    "\n",
    "ax.plot(X,Y2, label=' cos(x)', ls='--')\n",
    "ax.plot(X,Y3, label=' sin(2*x)', ls=':')\n",
    "\n",
    "ax.set_xlabel('x', fontsize=18)\n",
    "ax.set_ylabel('y', fontsize=18)\n",
    "\n",
    "ax.set_title('Plot of functions', fontsize=18)\n",
    "\n",
    "#ax.grid(ls='--')\n",
    "ax.legend(fontsize=16)\n",
    "ax.set_xlim(0,2*pi)\n",
    "\n",
    "fig.savefig('plot.pdf', format='pdf')"
   ]
  },
  {
   "cell_type": "markdown",
   "metadata": {},
   "source": [
    "### 线性回归"
   ]
  },
  {
   "cell_type": "code",
   "execution_count": 33,
   "metadata": {},
   "outputs": [
    {
     "data": {
      "text/plain": [
       "<matplotlib.collections.PathCollection at 0x7f6a5c547a20>"
      ]
     },
     "execution_count": 33,
     "metadata": {},
     "output_type": "execute_result"
    },
    {
     "data": {
      "image/png": "[encoded data removed]",
      "text/plain": [
       "<Figure size 432x288 with 1 Axes>"
      ]
     },
     "metadata": {
      "needs_background": "light"
     },
     "output_type": "display_data"
    }
   ],
   "source": [
    "X = np.linspace(0, 2, 15) \n",
    "Y = 3*X + 4 + random.uniform(-1,1,15)\n",
    "fig = plt.figure()\n",
    "ax = fig.add_subplot(111)\n",
    "ax.scatter(X,Y)"
   ]
  },
  {
   "cell_type": "markdown",
   "metadata": {},
   "source": [
    "### 1阶线性回归"
   ]
  },
  {
   "cell_type": "code",
   "execution_count": 34,
   "metadata": {},
   "outputs": [
    {
     "data": {
      "text/plain": [
       "array([3.1269036 , 4.00287682])"
      ]
     },
     "execution_count": 34,
     "metadata": {},
     "output_type": "execute_result"
    }
   ],
   "source": [
    "np.polyfit(X, Y, 1)"
   ]
  },
  {
   "cell_type": "markdown",
   "metadata": {},
   "source": [
    "### 绘制出拟合的曲线"
   ]
  },
  {
   "cell_type": "code",
   "execution_count": 35,
   "metadata": {},
   "outputs": [
    {
     "data": {
      "text/plain": [
       "<matplotlib.legend.Legend at 0x7f6a5c4bbd68>"
      ]
     },
     "execution_count": 35,
     "metadata": {},
     "output_type": "execute_result"
    },
    {
     "data": {
      "image/png": "[encoded data removed]",
      "text/plain": [
       "<Figure size 432x288 with 1 Axes>"
      ]
     },
     "metadata": {
      "needs_background": "light"
     },
     "output_type": "display_data"
    }
   ],
   "source": [
    "\n",
    "fig = plt.figure()\n",
    "ax = fig.add_subplot(111)\n",
    "\n",
    "## 原始数据\n",
    "ax.scatter(X,Y)\n",
    "\n",
    "## 拟合\n",
    "nowfit = polyfit(X,Y,1)\n",
    "X2 = np.linspace(0, 2, 100)\n",
    "Y2 = polyval(nowfit,X2)\n",
    "\n",
    "## 画图\n",
    "ax.plot(X2,Y2, label='Y = %.2f'%nowfit[0]+' x + %.2f'%nowfit[1]+' ')\n",
    "ax.legend()"
   ]
  },
  {
   "cell_type": "markdown",
   "metadata": {},
   "source": [
    "### 可以任意 order 拟合"
   ]
  },
  {
   "cell_type": "code",
   "execution_count": 36,
   "metadata": {},
   "outputs": [
    {
     "data": {
      "text/plain": [
       "<matplotlib.legend.Legend at 0x7f6a5c4390b8>"
      ]
     },
     "execution_count": 36,
     "metadata": {},
     "output_type": "execute_result"
    },
    {
     "data": {
      "image/png": "[encoded data removed]",
      "text/plain": [
       "<Figure size 720x432 with 1 Axes>"
      ]
     },
     "metadata": {
      "needs_background": "light"
     },
     "output_type": "display_data"
    }
   ],
   "source": [
    "\n",
    "fig = plt.figure(figsize=(10,6))\n",
    "ax = fig.add_subplot(111)\n",
    "ax.scatter(X,Y)\n",
    "\n",
    "## 拟合\n",
    "for order in [1,10,]:\n",
    "    X2 = np.linspace(0, 2, 100)\n",
    "    nowfit = polyfit(X,Y,order)\n",
    "    Y2 = polyval(nowfit,X2)\n",
    "\n",
    "    ## 画图\n",
    "    ax.plot(X2,Y2,label='order = '+str(order))\n",
    "ax.legend()"
   ]
  },
  {
   "cell_type": "markdown",
   "metadata": {},
   "source": [
    "### 其他 matplotlib 常用的功能：\n",
    "    scatter, errorbar, hist, contour"
   ]
  },
  {
   "cell_type": "code",
   "execution_count": null,
   "metadata": {},
   "outputs": [],
   "source": []
  }
 ],
 "metadata": {
  "kernelspec": {
   "display_name": "Python 3",
   "language": "python",
   "name": "python3"
  },
  "language_info": {
   "codemirror_mode": {
    "name": "ipython",
    "version": 3
   },
   "file_extension": ".py",
   "mimetype": "text/x-python",
   "name": "python",
   "nbconvert_exporter": "python",
   "pygments_lexer": "ipython3",
   "version": "3.7.1"
  }
 },
 "nbformat": 4,
 "nbformat_minor": 2
}
